{
 "cells": [
  {
   "cell_type": "markdown",
   "metadata": {},
   "source": [
    "# Detect single character XOR\n",
    "\n",
    "See http://cryptopals.com/sets/1/challenges/4"
   ]
  },
  {
   "cell_type": "code",
   "execution_count": null,
   "metadata": {
    "collapsed": false
   },
   "outputs": [],
   "source": [
    "function englishiness(ptarray::Array{UInt8, 1})\n",
    "EnglishFrequencies = Dict( # from http://scottbryce.com/cryptograms/stats.htm\n",
    "    'e'=>12.51, \n",
    "    't'=>9.25,\n",
    "    'a'=>8.04,\n",
    "    'o'=>7.6,\n",
    "    'i'=>7.26,\n",
    "    'n'=>7.09,\n",
    "    's'=>6.54,\n",
    "    'r'=>6.12,\n",
    "    'h'=>5.49,\n",
    "    'l'=>4.14,\n",
    "    'd'=>3.99,\n",
    "    'c'=>3.06,\n",
    "    'u'=>2.71,\n",
    "    'm'=>2.53,\n",
    "    'f'=>2.3,\n",
    "    'p'=>2.0,\n",
    "    'g'=>1.96,\n",
    "    'w'=>1.92,\n",
    "    'y'=>1.73,\n",
    "    'b'=>1.54,\n",
    "    'v'=>0.99,\n",
    "    'k'=>0.67,\n",
    "    'x'=>0.19,\n",
    "    'j'=>0.16,\n",
    "    'q'=>0.11,\n",
    "    'z'=>0.09,\n",
    "    )\n",
    "    s=0\n",
    "    for ll in ptarray\n",
    "        llchar = Char(ll)\n",
    "        if isalpha(llchar)\n",
    "            s+=get(EnglishFrequencies, lowercase(llchar), -5)\n",
    "        else\n",
    "            s+=-20\n",
    "        end\n",
    "    end\n",
    "    return s\n",
    "end\n",
    "function genBestSingleByteXORDecrypt(ctbytes::Array{UInt8, 1})\n",
    "    bestdecrypt = []\n",
    "    bestscore = -Inf\n",
    "    bestkey = 0x00\n",
    "    for xx in 0x00:0xff\n",
    "        if isascii(Char(xx))\n",
    "            ptbytes = ctbytes $ xx\n",
    "            ptscore = englishiness(ptbytes)\n",
    "            if ptscore > bestscore\n",
    "                bestscore = ptscore\n",
    "                bestdecrypt = ptbytes\n",
    "                bestkey = xx\n",
    "            end\n",
    "        end\n",
    "    end\n",
    "    return (bestscore, bestdecrypt, bestkey)\n",
    "end;"
   ]
  },
  {
   "cell_type": "code",
   "execution_count": null,
   "metadata": {
    "collapsed": false
   },
   "outputs": [],
   "source": [
    "bestscore = -Inf\n",
    "bestdecrypt = []\n",
    "bestkey = []\n",
    "for cl in eachline(\"4.txt\")\n",
    "    cl = chomp(cl)\n",
    "    clbytes = hex2bytes(cl)\n",
    "    pttuple = genBestSingleByteXORDecrypt(clbytes)\n",
    "    if pttuple[1] > bestscore\n",
    "        bestscore = pttuple[1]\n",
    "        bestdecrypt = pttuple[2]\n",
    "        bestkey = pttuple[3]\n",
    "    end\n",
    "end;"
   ]
  },
  {
   "cell_type": "code",
   "execution_count": null,
   "metadata": {
    "collapsed": false
   },
   "outputs": [],
   "source": [
    "String(bestdecrypt)"
   ]
  }
 ],
 "metadata": {
  "anaconda-cloud": {},
  "kernelspec": {
   "display_name": "Julia 0.5.0",
   "language": "julia",
   "name": "julia-0.5"
  },
  "language_info": {
   "file_extension": ".jl",
   "mimetype": "application/julia",
   "name": "julia",
   "version": "0.5.0"
  }
 },
 "nbformat": 4,
 "nbformat_minor": 1
}
