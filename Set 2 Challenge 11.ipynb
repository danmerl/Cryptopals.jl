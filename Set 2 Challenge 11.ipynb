{
 "cells": [
  {
   "cell_type": "markdown",
   "metadata": {},
   "source": [
    "# An ECB/CBC detection oracle"
   ]
  },
  {
   "cell_type": "markdown",
   "metadata": {},
   "source": [
    "See http://cryptopals.com/sets/2/challenges/11"
   ]
  },
  {
   "cell_type": "code",
   "execution_count": null,
   "metadata": {
    "collapsed": true
   },
   "outputs": [],
   "source": [
    "function decryptAES128ECBWithKey(ciphertext::String, key::String)\n",
    "    decrypt = chomp(\n",
    "        readstring(\n",
    "            pipeline(`echo -n $ciphertext`,\n",
    "                     `base64 --decode`,\n",
    "                     `openssl enc -nopad -d -aes-128-ecb -K $key`,\n",
    "                     `base64`)))\n",
    "    return decrypt\n",
    "end\n",
    "\n",
    "# takes bytes and returns bytes\n",
    "function decryptAES128ECBWithKey(cipherbytes::Array{UInt8,1}, keybytes::Array{UInt8,1})\n",
    "    ciphertext = base64encode(cipherbytes)\n",
    "    keytext = bytes2hex(keybytes)\n",
    "    return base64decode(decryptAES128ECBWithKey(ciphertext, keytext))\n",
    "end\n",
    "\n",
    "function encryptAES128ECBWithKey(plaintext::String, key::String)\n",
    "    encrypt = chomp(\n",
    "        readstring(\n",
    "            pipeline(`echo -n $plaintext`,\n",
    "                     `base64 --decode`,\n",
    "                     `openssl enc -nopad -e -aes-128-ecb -K $key`,\n",
    "                     `base64`)))\n",
    "    return encrypt\n",
    "end\n",
    "\n",
    "function encryptAES128ECBWithKey(plaintextbytes::Array{UInt8,1}, keybytes::Array{UInt8,1})\n",
    "    plaintext = base64encode(plaintextbytes)\n",
    "    keytext = bytes2hex(keybytes)\n",
    "    return base64decode(encryptAES128ECBWithKey(plaintext, keytext))\n",
    "end\n",
    "\n",
    "function encryptCBCByHand(ptbytes::Array{UInt8,1}, blocksize, ivbytes::Array{UInt8,1}, keybytes::Array{UInt8,1})\n",
    "    cipherbytes = Array{UInt8,1}()\n",
    "    nblocks = convert(Int64, ceil(length(ptbytes)/blocksize))\n",
    "    ptbytes = padToNBytes(ptbytes, blocksize*nblocks)\n",
    "    lastblock = ivbytes\n",
    "    for ii in 1:nblocks\n",
    "        bytestoencrypt = ptbytes[((ii-1)*blocksize+1):(ii*blocksize)] $ lastblock\n",
    "        encryptedbytes = encryptAES128ECBWithKey(bytestoencrypt, keybytes)\n",
    "        append!(cipherbytes, encryptedbytes)\n",
    "        lastblock = encryptedbytes\n",
    "    end\n",
    "    return cipherbytes\n",
    "end;\n",
    "\n",
    "function decryptCBCByHand(ctbytes::Array{UInt8,1}, blocksize, ivbytes::Array{UInt8,1}, keybytes::Array{UInt8,1})\n",
    "    ptbytes = Array{UInt8,1}()\n",
    "    nblocks = convert(Int64, length(ctbytes)/blocksize)\n",
    "    lastblock = ivbytes\n",
    "    for ii in 1:nblocks\n",
    "        bytestodecrypt = ctbytes[((ii-1)*blocksize+1):(ii*blocksize)]\n",
    "        decryptedbytes = decryptAES128ECBWithKey(bytestodecrypt, keybytes) $ lastblock\n",
    "        append!(ptbytes, decryptedbytes)\n",
    "        lastblock = bytestodecrypt\n",
    "    end\n",
    "    return ptbytes\n",
    "end;\n"
   ]
  },
  {
   "cell_type": "code",
   "execution_count": null,
   "metadata": {
    "collapsed": true
   },
   "outputs": [],
   "source": [
    "function padToNBytes(a::Array{UInt8,1}, nbytes)\n",
    "    newa = Array{UInt8,1}(nbytes)\n",
    "    ntopad = nbytes - length(a)\n",
    "    newa[1:length(a)] = a\n",
    "    newa[(length(a)+1):nbytes] = UInt8(ntopad)\n",
    "    return newa\n",
    "end\n",
    "\n",
    "function padToNBytes(a::String, nbytes)\n",
    "    return String(padToNBytes(stringToBytes(a), nbytes))\n",
    "end;\n"
   ]
  },
  {
   "cell_type": "code",
   "execution_count": null,
   "metadata": {
    "collapsed": true
   },
   "outputs": [],
   "source": [
    "function stringToBytes(X::String)\n",
    "    return [UInt8(X[ii]) for ii in 1:length(X)]\n",
    "end;"
   ]
  },
  {
   "cell_type": "code",
   "execution_count": null,
   "metadata": {
    "collapsed": false
   },
   "outputs": [],
   "source": [
    "function encryptionOracle(ptbytes::Array{UInt8, 1})\n",
    "    blocksize=16\n",
    "    keybytes = rand(0x00:0xff, blocksize)\n",
    "    \n",
    "    ptbytespadded = rand(0x00:0xff, rand(5:10))\n",
    "    append!(ptbytespadded, ptbytes)\n",
    "    append!(ptbytespadded, rand(0x00:0xff, rand(5:10)))\n",
    "    \n",
    "    nblocks = convert(Int64, ceil(length(ptbytespadded)/blocksize))\n",
    "    ptbytespadded = padToNBytes(ptbytespadded, nblocks*blocksize)\n",
    "    \n",
    "    if rand() < 0.5\n",
    "        println(\"ecb\")\n",
    "        return encryptAES128ECBWithKey(ptbytespadded, keybytes)\n",
    "    else\n",
    "        println(\"cbc\")\n",
    "        iv = rand(0x00:0xff, blocksize)\n",
    "        return encryptCBCByHand(ptbytespadded, blocksize, iv, keybytes)\n",
    "    end\n",
    "end;"
   ]
  },
  {
   "cell_type": "markdown",
   "metadata": {},
   "source": [
    "Given a thing that is either encrypting with ECB or CBC, we can figure out which its doing by probing it with a repeating block of plaintext which will, under ECB, even with the random padding, still result in some of the encrypted blocks being identical. "
   ]
  },
  {
   "cell_type": "code",
   "execution_count": null,
   "metadata": {
    "collapsed": false
   },
   "outputs": [],
   "source": [
    "probe = repeat(\"abcdefghijklmnop\", 32)"
   ]
  },
  {
   "cell_type": "code",
   "execution_count": null,
   "metadata": {
    "collapsed": false
   },
   "outputs": [],
   "source": [
    "ctbytes = encryptionOracle(stringToBytes(probe));"
   ]
  },
  {
   "cell_type": "code",
   "execution_count": null,
   "metadata": {
    "collapsed": false
   },
   "outputs": [],
   "source": [
    "function isThisECBOrCBC(ctbytes::Array{UInt8,1}, blocksize=16)\n",
    "    nblocks = convert(Int64, length(ctbytes)/blocksize)\n",
    "    interblocksimilarity = []\n",
    "    for ii in 1:(nblocks-1)\n",
    "        for jj in (ii+1):nblocks\n",
    "            blockii = ctbytes[((ii-1)*blocksize+1):(ii*blocksize)]\n",
    "            blockjj = ctbytes[((jj-1)*blocksize+1):(jj*blocksize)]\n",
    "            samebits = ~(blockii $ blockjj)\n",
    "            similarity = 0\n",
    "            for cc in samebits\n",
    "                ccbits = bits(cc)\n",
    "                for dd in 1:length(ccbits)\n",
    "                    if ccbits[dd]=='1'\n",
    "                        similarity+=1\n",
    "                    end\n",
    "                end\n",
    "            end\n",
    "            push!(interblocksimilarity, similarity/(8*blocksize))\n",
    "        end\n",
    "    end\n",
    "    pexactsame = sum(interblocksimilarity.==1)/length(interblocksimilarity)\n",
    "    cipher = \"cbc\"\n",
    "    if pexactsame > 0.5\n",
    "        cipher = \"ecb\"\n",
    "    end\n",
    "    return (cipher, pexactsame, interblocksimilarity)\n",
    "end;"
   ]
  },
  {
   "cell_type": "code",
   "execution_count": null,
   "metadata": {
    "collapsed": false
   },
   "outputs": [],
   "source": [
    "(ciphertype, pexactsame, interblocksimilarity) = isThisECBOrCBC(ctbytes)"
   ]
  },
  {
   "cell_type": "code",
   "execution_count": null,
   "metadata": {
    "collapsed": false,
    "scrolled": true
   },
   "outputs": [],
   "source": [
    "using Gadfly;\n",
    "using DataFrames;"
   ]
  },
  {
   "cell_type": "code",
   "execution_count": null,
   "metadata": {
    "collapsed": false,
    "scrolled": true
   },
   "outputs": [],
   "source": [
    "plot(DataFrame(similarity=interblocksimilarity), x=\"similarity\", Geom.histogram)"
   ]
  },
  {
   "cell_type": "markdown",
   "metadata": {},
   "source": [
    "Under CBC the interblock similarities will be distributed around 0.5.  Under ECB, there will be a large fraction of pairs with similarity=1.0"
   ]
  },
  {
   "cell_type": "code",
   "execution_count": null,
   "metadata": {
    "collapsed": false
   },
   "outputs": [],
   "source": [
    "ctbytes = encryptionOracle(stringToBytes(probe));"
   ]
  },
  {
   "cell_type": "code",
   "execution_count": null,
   "metadata": {
    "collapsed": false
   },
   "outputs": [],
   "source": [
    "(ciphertype, pexactsame, interblocksimilarity) = isThisECBOrCBC(ctbytes)"
   ]
  },
  {
   "cell_type": "code",
   "execution_count": null,
   "metadata": {
    "collapsed": false
   },
   "outputs": [],
   "source": [
    "plot(DataFrame(similarity=interblocksimilarity), x=\"similarity\", Geom.histogram)"
   ]
  }
 ],
 "metadata": {
  "anaconda-cloud": {},
  "kernelspec": {
   "display_name": "Julia 0.5.0",
   "language": "julia",
   "name": "julia-0.5"
  },
  "language_info": {
   "file_extension": ".jl",
   "mimetype": "application/julia",
   "name": "julia",
   "version": "0.5.0"
  }
 },
 "nbformat": 4,
 "nbformat_minor": 1
}
