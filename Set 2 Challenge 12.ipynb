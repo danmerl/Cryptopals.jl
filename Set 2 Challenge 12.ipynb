{
 "cells": [
  {
   "cell_type": "markdown",
   "metadata": {},
   "source": [
    "# Byte-at-a-time ECB decryption (Simple)"
   ]
  },
  {
   "cell_type": "markdown",
   "metadata": {},
   "source": [
    "See http://cryptopals.com/sets/2/challenges/12"
   ]
  },
  {
   "cell_type": "code",
   "execution_count": null,
   "metadata": {
    "collapsed": false
   },
   "outputs": [],
   "source": [
    "include(\"cryptofuncs.jl\");"
   ]
  },
  {
   "cell_type": "code",
   "execution_count": null,
   "metadata": {
    "collapsed": false
   },
   "outputs": [],
   "source": [
    "suffix = \"\"\"Um9sbGluJyBpbiBteSA1LjAKV2l0aCBteSByYWctdG9wIGRvd24gc28gbXkgaGFpciBjYW4gYmxvdwpUaGUgZ2lybGllcyBvbiBzdGFuZGJ5IHdhdmluZyBqdXN0IHRvIHNheSBoaQpEaWQgeW91IHN0b3A/IE5vLCBJIGp1c3QgZHJvdmUgYnkK\"\"\""
   ]
  },
  {
   "cell_type": "code",
   "execution_count": null,
   "metadata": {
    "collapsed": false
   },
   "outputs": [],
   "source": [
    "suffixbytes = base64decode(suffix);"
   ]
  },
  {
   "cell_type": "code",
   "execution_count": null,
   "metadata": {
    "collapsed": false
   },
   "outputs": [],
   "source": [
    "function ECBEncryptor(ptbytes::Array{UInt8, 1}, keybytes::Array{UInt8,1}=rand(0x00:0xff, 16))\n",
    "    blocksize = length(keybytes)\n",
    "    nblocks = convert(Int64, ceil(length(ptbytes)/blocksize))\n",
    "    ptbytespadded = padToNBytes(ptbytes, nblocks*blocksize)    \n",
    "    return encryptAES128ECBWithKey(ptbytespadded, keybytes)\n",
    "end;"
   ]
  },
  {
   "cell_type": "code",
   "execution_count": null,
   "metadata": {
    "collapsed": false
   },
   "outputs": [],
   "source": [
    "blocksize=16\n",
    "randomkey = rand(0x00:0xff, blocksize)\n",
    "function encryptionOracle(ptbytes::Array{UInt8,1})\n",
    "    newptbytes = copy(ptbytes)\n",
    "    append!(newptbytes, suffixbytes)\n",
    "    return ECBEncryptor(newptbytes, randomkey)\n",
    "end;"
   ]
  },
  {
   "cell_type": "markdown",
   "metadata": {},
   "source": [
    "First, learn the blocksize."
   ]
  },
  {
   "cell_type": "code",
   "execution_count": null,
   "metadata": {
    "collapsed": false
   },
   "outputs": [],
   "source": [
    "pt = stringToBytes(\"A\")\n",
    "ctlength = length(encryptionOracle(pt))\n",
    "newctlength = ctlength\n",
    "while newctlength == ctlength\n",
    "    append!(pt, pt[1])\n",
    "    newctlength = length(encryptionOracle(pt))\n",
    "end\n",
    "blocksize = newctlength - ctlength"
   ]
  },
  {
   "cell_type": "markdown",
   "metadata": {},
   "source": [
    "Next, identify the cipher type."
   ]
  },
  {
   "cell_type": "code",
   "execution_count": null,
   "metadata": {
    "collapsed": true
   },
   "outputs": [],
   "source": [
    "function isThisECBOrCBC(ctbytes::Array{UInt8,1}, blocksize=16)\n",
    "    nblocks = convert(Int64, length(ctbytes)/blocksize)\n",
    "    interblocksimilarity = []\n",
    "    for ii in 1:(nblocks-1)\n",
    "        for jj in (ii+1):nblocks\n",
    "            blockii = ctbytes[((ii-1)*blocksize+1):(ii*blocksize)]\n",
    "            blockjj = ctbytes[((jj-1)*blocksize+1):(jj*blocksize)]\n",
    "            samebits = ~(blockii $ blockjj)\n",
    "            similarity = 0\n",
    "            for cc in samebits\n",
    "                ccbits = bits(cc)\n",
    "                for dd in 1:length(ccbits)\n",
    "                    if ccbits[dd]=='1'\n",
    "                        similarity+=1\n",
    "                    end\n",
    "                end\n",
    "            end\n",
    "            push!(interblocksimilarity, similarity/(8*blocksize))\n",
    "        end\n",
    "    end\n",
    "    pexactsame = sum(interblocksimilarity.==1)/length(interblocksimilarity)\n",
    "    cipher = \"cbc\"\n",
    "    if pexactsame > 0.5\n",
    "        cipher = \"ecb\"\n",
    "    end\n",
    "    return (cipher, pexactsame, interblocksimilarity)\n",
    "end;"
   ]
  },
  {
   "cell_type": "code",
   "execution_count": null,
   "metadata": {
    "collapsed": false
   },
   "outputs": [],
   "source": [
    "probe = repeat(\"abcdefghijklmnop\", 32)\n",
    "ctbytes = encryptionOracle(stringToBytes(probe))\n",
    "isThisECBOrCBC(ctbytes)"
   ]
  },
  {
   "cell_type": "markdown",
   "metadata": {},
   "source": [
    "Because the oracle is appending some unknown ciphertext to the end of its input, the $pexactsame$ threshold might have needed to be adjusted, but there are still too many identical blocks for this to be CBC."
   ]
  },
  {
   "cell_type": "code",
   "execution_count": null,
   "metadata": {
    "collapsed": false
   },
   "outputs": [],
   "source": [
    "probebytes = stringToBytes(repeat(\"A\", blocksize))\n",
    "for ii in 1:blocksize\n",
    "    targetctbytes = encryptionOracle(probebytes[1:(blocksize-ii)])\n",
    "    for xx in 0x00:0xff\n",
    "        if isascii(Char(xx))\n",
    "            probebytes[blocksize] = xx\n",
    "            ctcandidate = encryptionOracle(probebytes) # the first block of this should match targetctbytes when xx is right\n",
    "            if ctcandidate[1:blocksize] == targetctbytes[1:blocksize]\n",
    "                println(\"found position $ii\")\n",
    "                if ii < blocksize\n",
    "                    for jj in 1:(length(probebytes)-1)\n",
    "                        probebytes[jj] = probebytes[jj+1] # shift the bytes back so we can crack the next position\n",
    "                    end\n",
    "                end\n",
    "                break\n",
    "            end\n",
    "        end        \n",
    "    end\n",
    "end"
   ]
  },
  {
   "cell_type": "code",
   "execution_count": null,
   "metadata": {
    "collapsed": false
   },
   "outputs": [],
   "source": [
    "String(probebytes)"
   ]
  },
  {
   "cell_type": "markdown",
   "metadata": {},
   "source": [
    "So now we've cracked the first block.  Since this is ECB maybe now we can crack the key and be done, but I don't know how to do that.  Or we can pump out the second block so that the byte we're learning is the last byte of the second block, and so on."
   ]
  },
  {
   "cell_type": "code",
   "execution_count": null,
   "metadata": {
    "collapsed": false
   },
   "outputs": [],
   "source": [
    "nblocks = convert(Int64, length(encryptionOracle(stringToBytes(\"\")))/blocksize)\n",
    "decrypt = Array{UInt8,1}()\n",
    "blockpt = stringToBytes(repeat(\"A\", blocksize)) # set the initial blockpt to be repeating As\n",
    "for kk in 1:nblocks\n",
    "    for ii in 1:blocksize\n",
    "        targetctbytes = encryptionOracle(stringToBytes(repeat(\"A\", blocksize-ii))) # this is wasteful.  sorry.\n",
    "        for xx in 0x00:0xff\n",
    "            if isascii(Char(xx))\n",
    "                blockpt[blocksize] = xx\n",
    "                ctcandidate = encryptionOracle(blockpt) \n",
    "                if ctcandidate[1:blocksize] == targetctbytes[((kk-1)*blocksize+1):(kk*blocksize)]\n",
    "                    println(\"found position $ii in block $kk\") # TODO: fail if we fail to get here for any xx\n",
    "                    append!(decrypt, xx)\n",
    "                    for jj in 1:(length(probebytes)-1)\n",
    "                        blockpt[jj] = blockpt[jj+1] # shift the bytes back so we can crack the next position\n",
    "                    end\n",
    "                    break\n",
    "                end\n",
    "            end        \n",
    "        end\n",
    "    end\n",
    "end"
   ]
  },
  {
   "cell_type": "code",
   "execution_count": null,
   "metadata": {
    "collapsed": false
   },
   "outputs": [],
   "source": [
    "String(decrypt)"
   ]
  },
  {
   "cell_type": "markdown",
   "metadata": {},
   "source": [
    "Beginning to sense a theme here. "
   ]
  }
 ],
 "metadata": {
  "anaconda-cloud": {},
  "kernelspec": {
   "display_name": "Julia 0.5.0",
   "language": "julia",
   "name": "julia-0.5"
  },
  "language_info": {
   "file_extension": ".jl",
   "mimetype": "application/julia",
   "name": "julia",
   "version": "0.5.0"
  }
 },
 "nbformat": 4,
 "nbformat_minor": 1
}
