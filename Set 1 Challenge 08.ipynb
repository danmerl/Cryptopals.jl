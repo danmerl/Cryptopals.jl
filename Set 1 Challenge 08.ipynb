{
 "cells": [
  {
   "cell_type": "markdown",
   "metadata": {},
   "source": [
    "# Detect AES in ECB mode"
   ]
  },
  {
   "cell_type": "markdown",
   "metadata": {},
   "source": [
    "See http://cryptopals.com/sets/1/challenges/8"
   ]
  },
  {
   "cell_type": "code",
   "execution_count": null,
   "metadata": {
    "collapsed": false
   },
   "outputs": [],
   "source": [
    "blocksize = 16 # assume blocksize is 16\n",
    "maxmaxsimilarity = 0\n",
    "mostlikelyline = []\n",
    "allmaxsimilarities = []\n",
    "for ll in eachline(\"8.txt\")\n",
    "    cipherbytes = hex2bytes(chomp(ll))\n",
    "    nbytes = length(cipherbytes)\n",
    "    nblocks = convert(Int64, nbytes / blocksize)\n",
    "    maxsimilarity = 0\n",
    "    for aa in 1:(nblocks-1)\n",
    "        for bb in (aa+1):nblocks\n",
    "            similarity = 0\n",
    "            aablock = cipherbytes[((aa-1)*blocksize+1):(aa*blocksize)]\n",
    "            bbblock = cipherbytes[((bb-1)*blocksize+1):(bb*blocksize)]\n",
    "            samebits = ~(aablock $ bbblock)\n",
    "            for cc in samebits\n",
    "                ccbits = bits(cc)\n",
    "                for dd in 1:length(ccbits)\n",
    "                    if ccbits[dd]=='1'\n",
    "                        similarity+=1\n",
    "                    end\n",
    "                end\n",
    "            end\n",
    "            if similarity > maxsimilarity\n",
    "                maxsimilarity = similarity\n",
    "            end\n",
    "        end\n",
    "    end\n",
    "    if maxsimilarity > maxmaxsimilarity\n",
    "        maxmaxsimilarity = maxsimilarity\n",
    "        mostlikelyline = cipherbytes\n",
    "    end\n",
    "    push!(allmaxsimilarities, maxsimilarity)\n",
    "end"
   ]
  },
  {
   "cell_type": "code",
   "execution_count": null,
   "metadata": {
    "collapsed": false
   },
   "outputs": [],
   "source": [
    "maxmaxsimilarity"
   ]
  },
  {
   "cell_type": "code",
   "execution_count": null,
   "metadata": {
    "collapsed": false,
    "scrolled": false
   },
   "outputs": [],
   "source": [
    "cipherbase64 = base64encode(mostlikelyline)"
   ]
  },
  {
   "cell_type": "code",
   "execution_count": null,
   "metadata": {
    "collapsed": false
   },
   "outputs": [],
   "source": [
    "open(\"candidate8.txt\", \"w\") do x\n",
    "    write(x, \"$cipherbase64\")\n",
    "end;"
   ]
  },
  {
   "cell_type": "code",
   "execution_count": null,
   "metadata": {
    "collapsed": false
   },
   "outputs": [],
   "source": [
    "function decryptAES128ECBFileWithKey(fname, key)\n",
    "    decrypt = chomp(readstring(`openssl enc -d -a -aes-128-ecb -K $key -in $fname`))\n",
    "    return decrypt\n",
    "end;"
   ]
  },
  {
   "cell_type": "code",
   "execution_count": null,
   "metadata": {
    "collapsed": true
   },
   "outputs": [],
   "source": [
    "function stringToBytes(X::String)\n",
    "    return [UInt8(X[ii]) for ii in 1:length(X)]\n",
    "end;"
   ]
  },
  {
   "cell_type": "code",
   "execution_count": null,
   "metadata": {
    "collapsed": false
   },
   "outputs": [],
   "source": [
    "decryptAES128ECBFileWithKey(\"candidate8.txt\", bytes2hex(stringToBytes(\"YELLOW SUBMARINE\")))"
   ]
  },
  {
   "cell_type": "markdown",
   "metadata": {},
   "source": [
    "Guess that wasn't the key here too. "
   ]
  },
  {
   "cell_type": "code",
   "execution_count": null,
   "metadata": {
    "collapsed": true
   },
   "outputs": [],
   "source": [
    "using DataFrames\n",
    "using Gadfly"
   ]
  },
  {
   "cell_type": "code",
   "execution_count": null,
   "metadata": {
    "collapsed": false
   },
   "outputs": [],
   "source": [
    "similaritiesdf = DataFrame(dists=allmaxsimilarities);"
   ]
  },
  {
   "cell_type": "code",
   "execution_count": null,
   "metadata": {
    "collapsed": false
   },
   "outputs": [],
   "source": [
    "plot(similaritiesdf,x=\"dists\", Geom.histogram)"
   ]
  },
  {
   "cell_type": "markdown",
   "metadata": {},
   "source": [
    "That 128 point is definitely an anomoly. "
   ]
  }
 ],
 "metadata": {
  "anaconda-cloud": {},
  "kernelspec": {
   "display_name": "Julia 0.5.0",
   "language": "julia",
   "name": "julia-0.5"
  },
  "language_info": {
   "file_extension": ".jl",
   "mimetype": "application/julia",
   "name": "julia",
   "version": "0.5.0"
  }
 },
 "nbformat": 4,
 "nbformat_minor": 1
}
