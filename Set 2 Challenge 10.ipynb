{
 "cells": [
  {
   "cell_type": "markdown",
   "metadata": {},
   "source": [
    "# Implement CBC mode"
   ]
  },
  {
   "cell_type": "markdown",
   "metadata": {},
   "source": [
    "See http://cryptopals.com/sets/2/challenges/10"
   ]
  },
  {
   "cell_type": "markdown",
   "metadata": {},
   "source": [
    "Sure is a good thing I found this: http://crypto.stackexchange.com/questions/12621/why-does-openssl-append-extra-bytes-when-encrypting-with-aes-128-ecb.  It turns out that openssl doesn't do what you'd think it would do.  For one, without the -nopad argument, it always pads, even if that means adding an entire extra block of padding.  For two, the -a argument doesn't seem to get applied before checking whether or not the number of input bytes is compatible with the blocksize and keylength.\n"
   ]
  },
  {
   "cell_type": "code",
   "execution_count": null,
   "metadata": {
    "collapsed": false
   },
   "outputs": [],
   "source": [
    "function stringToBytes(X::String)\n",
    "    return [UInt8(X[ii]) for ii in 1:length(X)]\n",
    "end;\n",
    "\n",
    "function decryptAES128ECBWithKey(ciphertext::String, key::String)\n",
    "    decrypt = chomp(\n",
    "        readstring(\n",
    "            pipeline(`echo -n $ciphertext`,\n",
    "                     `base64 --decode`,\n",
    "                     `openssl enc -nopad -d -aes-128-ecb -K $key`,\n",
    "                     `base64`)))\n",
    "    return decrypt\n",
    "end\n",
    "\n",
    "# takes bytes and returns bytes\n",
    "function decryptAES128ECBWithKey(cipherbytes::Array{UInt8,1}, keybytes::Array{UInt8,1})\n",
    "    ciphertext = base64encode(cipherbytes)\n",
    "    keytext = bytes2hex(keybytes)\n",
    "    return base64decode(decryptAES128ECBWithKey(ciphertext, keytext))\n",
    "end\n",
    "\n",
    "function encryptAES128ECBWithKey(plaintext::String, key::String)\n",
    "    encrypt = chomp(\n",
    "        readstring(\n",
    "            pipeline(`echo -n $plaintext`, \n",
    "                     `base64 --decode`,\n",
    "                     `openssl enc -nopad -e -aes-128-ecb -K $key`,\n",
    "                     `base64`)))\n",
    "    return encrypt\n",
    "end\n",
    "\n",
    "function encryptAES128ECBWithKey(plaintextbytes::Array{UInt8,1}, keybytes::Array{UInt8,1})\n",
    "    plaintext = base64encode(plaintextbytes)\n",
    "    keytext = bytes2hex(keybytes)\n",
    "    return base64decode(encryptAES128ECBWithKey(plaintext, keytext))\n",
    "end\n",
    "\n",
    "function padToNBytes(a::Array{UInt8,1}, nbytes)\n",
    "    newa = Array{UInt8,1}(nbytes)\n",
    "    ntopad = nbytes - length(a)\n",
    "    newa[1:length(a)] = a\n",
    "    newa[(length(a)+1):nbytes] = UInt8(ntopad)\n",
    "    return newa\n",
    "end;"
   ]
  },
  {
   "cell_type": "code",
   "execution_count": null,
   "metadata": {
    "collapsed": false
   },
   "outputs": [],
   "source": [
    "pt = \"im a 16 byte txt\"\n",
    "ptbytes = stringToBytes(pt)\n",
    "ptb64 = base64encode(ptbytes)\n",
    "key = \"im a 16 byte key\"\n",
    "keybytes = stringToBytes(key)\n",
    "keyhex = bytes2hex(keybytes);"
   ]
  },
  {
   "cell_type": "code",
   "execution_count": null,
   "metadata": {
    "collapsed": false,
    "scrolled": true
   },
   "outputs": [],
   "source": [
    "ct = encryptAES128ECBWithKey(ptb64, keyhex);"
   ]
  },
  {
   "cell_type": "code",
   "execution_count": null,
   "metadata": {
    "collapsed": false
   },
   "outputs": [],
   "source": [
    "String(base64decode(decryptAES128ECBWithKey(ct, keyhex)))"
   ]
  },
  {
   "cell_type": "code",
   "execution_count": null,
   "metadata": {
    "collapsed": false
   },
   "outputs": [],
   "source": [
    "ctbytes = encryptAES128ECBWithKey(ptbytes, keybytes);"
   ]
  },
  {
   "cell_type": "code",
   "execution_count": null,
   "metadata": {
    "collapsed": false
   },
   "outputs": [],
   "source": [
    "String(decryptAES128ECBWithKey(ctbytes, keybytes))"
   ]
  },
  {
   "cell_type": "markdown",
   "metadata": {},
   "source": [
    "so that works"
   ]
  },
  {
   "cell_type": "code",
   "execution_count": null,
   "metadata": {
    "collapsed": false
   },
   "outputs": [],
   "source": [
    "function encryptCBCByHand(ptbytes::Array{UInt8,1}, blocksize, ivbytes::Array{UInt8,1}, keybytes::Array{UInt8,1})\n",
    "    cipherbytes = Array{UInt8,1}()\n",
    "    nblocks = convert(Int64, ceil(length(ptbytes)/blocksize))\n",
    "    ptbytes = padToNBytes(ptbytes, blocksize*nblocks)\n",
    "    lastblock = ivbytes\n",
    "    for ii in 1:nblocks\n",
    "        bytestoencrypt = ptbytes[((ii-1)*blocksize+1):(ii*blocksize)] $ lastblock\n",
    "        encryptedbytes = encryptAES128ECBWithKey(bytestoencrypt, keybytes)\n",
    "        append!(cipherbytes, encryptedbytes)\n",
    "        lastblock = encryptedbytes\n",
    "    end\n",
    "    return cipherbytes        \n",
    "end;"
   ]
  },
  {
   "cell_type": "code",
   "execution_count": null,
   "metadata": {
    "collapsed": false
   },
   "outputs": [],
   "source": [
    "function decryptCBCByHand(ctbytes::Array{UInt8,1}, blocksize, ivbytes::Array{UInt8,1}, keybytes::Array{UInt8,1})\n",
    "    ptbytes = Array{UInt8,1}()\n",
    "    nblocks = convert(Int64, length(ctbytes)/blocksize)\n",
    "    lastblock = ivbytes\n",
    "    for ii in 1:nblocks\n",
    "        bytestodecrypt = ctbytes[((ii-1)*blocksize+1):(ii*blocksize)]\n",
    "        decryptedbytes = decryptAES128ECBWithKey(bytestodecrypt, keybytes) $ lastblock\n",
    "        append!(ptbytes, decryptedbytes)\n",
    "        lastblock = bytestodecrypt\n",
    "    end\n",
    "    return ptbytes\n",
    "end;\n",
    "        "
   ]
  },
  {
   "cell_type": "code",
   "execution_count": null,
   "metadata": {
    "collapsed": false
   },
   "outputs": [],
   "source": [
    "keybytes = stringToBytes(\"YELLOW SUBMARINE\")\n",
    "ivbytes = zeros(UInt8, length(keybytes));\n",
    "ptbytes = stringToBytes(\"this is just a test to see if this cbc stuff could possibly be right\")\n",
    "blocksize = 16;"
   ]
  },
  {
   "cell_type": "code",
   "execution_count": null,
   "metadata": {
    "collapsed": true
   },
   "outputs": [],
   "source": [
    "ctattempt = encryptCBCByHand(ptbytes, blocksize, ivbytes, keybytes);"
   ]
  },
  {
   "cell_type": "code",
   "execution_count": null,
   "metadata": {
    "collapsed": false
   },
   "outputs": [],
   "source": [
    "ctattempt"
   ]
  },
  {
   "cell_type": "code",
   "execution_count": null,
   "metadata": {
    "collapsed": true
   },
   "outputs": [],
   "source": [
    "decryptattempt = decryptCBCByHand(ctattempt, blocksize, ivbytes, keybytes);"
   ]
  },
  {
   "cell_type": "code",
   "execution_count": null,
   "metadata": {
    "collapsed": false
   },
   "outputs": [],
   "source": [
    "decryptattempt"
   ]
  },
  {
   "cell_type": "code",
   "execution_count": null,
   "metadata": {
    "collapsed": false
   },
   "outputs": [],
   "source": [
    "String(decryptattempt)"
   ]
  },
  {
   "cell_type": "markdown",
   "metadata": {},
   "source": [
    "whoah"
   ]
  },
  {
   "cell_type": "code",
   "execution_count": null,
   "metadata": {
    "collapsed": false
   },
   "outputs": [],
   "source": [
    "ctb64 = chomp(readstring(\"10.txt\"));\n",
    "ctbytes = base64decode(ctb64);\n",
    "keytext = \"YELLOW SUBMARINE\"\n",
    "keybytes = stringToBytes(keytext)\n",
    "ivbytes = zeros(UInt8, length(keybytes));\n",
    "blocksize = 16;"
   ]
  },
  {
   "cell_type": "code",
   "execution_count": null,
   "metadata": {
    "collapsed": true
   },
   "outputs": [],
   "source": [
    "decryptattempt = decryptCBCByHand(ctbytes, blocksize, ivbytes, keybytes);"
   ]
  },
  {
   "cell_type": "code",
   "execution_count": null,
   "metadata": {
    "collapsed": false
   },
   "outputs": [],
   "source": [
    "String(decryptattempt)"
   ]
  }
 ],
 "metadata": {
  "anaconda-cloud": {},
  "kernelspec": {
   "display_name": "Julia 0.5.0",
   "language": "julia",
   "name": "julia-0.5"
  },
  "language_info": {
   "file_extension": ".jl",
   "mimetype": "application/julia",
   "name": "julia",
   "version": "0.5.0"
  }
 },
 "nbformat": 4,
 "nbformat_minor": 1
}
