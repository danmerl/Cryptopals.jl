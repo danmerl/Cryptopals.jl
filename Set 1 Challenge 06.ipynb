{
 "cells": [
  {
   "cell_type": "markdown",
   "metadata": {},
   "source": [
    "# Break Repeating Key XOR\n",
    "See http://cryptopals.com/sets/1/challenges/6"
   ]
  },
  {
   "cell_type": "code",
   "execution_count": null,
   "metadata": {
    "collapsed": true
   },
   "outputs": [],
   "source": [
    "function englishiness(ptarray::Array{UInt8, 1})\n",
    "EnglishFrequencies = Dict( # from http://scottbryce.com/cryptograms/stats.htm\n",
    "    'e'=>12.51, \n",
    "    't'=>9.25,\n",
    "    'a'=>8.04,\n",
    "    'o'=>7.6,\n",
    "    'i'=>7.26,\n",
    "    'n'=>7.09,\n",
    "    's'=>6.54,\n",
    "    'r'=>6.12,\n",
    "    'h'=>5.49,\n",
    "    'l'=>4.14,\n",
    "    'd'=>3.99,\n",
    "    'c'=>3.06,\n",
    "    'u'=>2.71,\n",
    "    'm'=>2.53,\n",
    "    'f'=>2.3,\n",
    "    'p'=>2.0,\n",
    "    'g'=>1.96,\n",
    "    'w'=>1.92,\n",
    "    'y'=>1.73,\n",
    "    'b'=>1.54,\n",
    "    'v'=>0.99,\n",
    "    'k'=>0.67,\n",
    "    'x'=>0.19,\n",
    "    'j'=>0.16,\n",
    "    'q'=>0.11,\n",
    "    'z'=>0.09,\n",
    "    )\n",
    "    s=0\n",
    "    for ll in ptarray\n",
    "        llchar = Char(ll)\n",
    "        if isalpha(llchar)\n",
    "            s+=get(EnglishFrequencies, lowercase(llchar), -5)\n",
    "        else\n",
    "            s+=-20\n",
    "        end\n",
    "    end\n",
    "    return s\n",
    "end\n",
    "function genBestSingleByteXORDecrypt(ctbytes::Array{UInt8, 1})\n",
    "    bestdecrypt = []\n",
    "    bestscore = -Inf\n",
    "    bestkey = 0x00\n",
    "    for xx in 0x00:0xff\n",
    "        if isascii(Char(xx))\n",
    "            ptbytes = ctbytes $ xx\n",
    "            ptscore = englishiness(ptbytes)\n",
    "            if ptscore > bestscore\n",
    "                bestscore = ptscore\n",
    "                bestdecrypt = ptbytes\n",
    "                bestkey = xx\n",
    "            end\n",
    "        end\n",
    "    end\n",
    "    return (bestscore, bestdecrypt, bestkey)\n",
    "end;"
   ]
  },
  {
   "cell_type": "code",
   "execution_count": null,
   "metadata": {
    "collapsed": true
   },
   "outputs": [],
   "source": [
    "function stringToBytes(X::String)\n",
    "    return [UInt8(X[ii]) for ii in 1:length(X)]\n",
    "end;"
   ]
  },
  {
   "cell_type": "code",
   "execution_count": null,
   "metadata": {
    "collapsed": false
   },
   "outputs": [],
   "source": [
    "function hammingDistance(a::Array{UInt8,1}, b::Array{UInt8,1})\n",
    "    differentbits = a $ b\n",
    "    d = 0\n",
    "    for ii in 1:length(differentbits)\n",
    "        c = bits(differentbits[ii])\n",
    "        for jj in 1:8\n",
    "            if c[jj] == '1'\n",
    "                d+=1\n",
    "            end\n",
    "        end\n",
    "    end\n",
    "    return d\n",
    "end\n",
    "\n",
    "function hammingDistance(a::String, b::String)\n",
    "    return hammingDistance(stringToBytes(a), stringToBytes(b))\n",
    "end;"
   ]
  },
  {
   "cell_type": "code",
   "execution_count": null,
   "metadata": {
    "collapsed": true
   },
   "outputs": [],
   "source": [
    "function repeatToLength(a::Array{UInt8,1}, len::Int64)\n",
    "    if len < length(a)\n",
    "        return a[1:len]\n",
    "    else\n",
    "        b = repeat(a, outer=convert(Int64, ceil(len / length(a))))\n",
    "        return b[1:len]\n",
    "    end\n",
    "end\n",
    "function repeatingKeyXOR(pt::Array{UInt8,1}, key::Array{UInt8,1})\n",
    "    return pt $ repeatToLength(key, length(pt))\n",
    "end;"
   ]
  },
  {
   "cell_type": "code",
   "execution_count": null,
   "metadata": {
    "collapsed": true
   },
   "outputs": [],
   "source": [
    "a = \"this is a test\"\n",
    "b = \"wokka wokka!!!\";"
   ]
  },
  {
   "cell_type": "code",
   "execution_count": null,
   "metadata": {
    "collapsed": false
   },
   "outputs": [],
   "source": [
    "abytes = stringToBytes(a)\n",
    "bbytes = stringToBytes(b);"
   ]
  },
  {
   "cell_type": "code",
   "execution_count": null,
   "metadata": {
    "collapsed": false
   },
   "outputs": [],
   "source": [
    "hammingDistance(abytes, bbytes)"
   ]
  },
  {
   "cell_type": "code",
   "execution_count": null,
   "metadata": {
    "collapsed": false
   },
   "outputs": [],
   "source": [
    "hammingDistance(a,b)"
   ]
  },
  {
   "cell_type": "code",
   "execution_count": null,
   "metadata": {
    "collapsed": true
   },
   "outputs": [],
   "source": [
    "cipher2 = read(\"6.txt\");"
   ]
  },
  {
   "cell_type": "code",
   "execution_count": null,
   "metadata": {
    "collapsed": false
   },
   "outputs": [],
   "source": [
    "cipherbytes = base64decode(String(cipher2));"
   ]
  },
  {
   "cell_type": "code",
   "execution_count": null,
   "metadata": {
    "collapsed": true
   },
   "outputs": [],
   "source": [
    "dists = []\n",
    "for kk in 1:40\n",
    "    d = 0\n",
    "    nblocks = 10\n",
    "    for bb in 1:nblocks\n",
    "        d += hammingDistance(cipherbytes[(1+(kk*(bb-1))):(kk*bb)], cipherbytes[(kk*bb+1):(kk*(bb+1))])\n",
    "    end\n",
    "    d = d / nblocks / kk\n",
    "    push!(dists, (kk, d))\n",
    "end;"
   ]
  },
  {
   "cell_type": "code",
   "execution_count": null,
   "metadata": {
    "collapsed": false
   },
   "outputs": [],
   "source": [
    "sort!(dists,lt=(x,y)->x[2]<y[2])"
   ]
  },
  {
   "cell_type": "code",
   "execution_count": null,
   "metadata": {
    "collapsed": false
   },
   "outputs": [],
   "source": [
    "keysize = dists[1][1]\n",
    "nbytes = length(cipherbytes)\n",
    "decryptkey = Array{UInt8,1}()\n",
    "for ii in 1:keysize\n",
    "    block = cipherbytes[ii:keysize:nbytes]\n",
    "    (score, ptbytes, key) = genBestSingleByteXORDecrypt(block);\n",
    "    push!(decryptkey, key)\n",
    "end\n",
    "fullptbytes = repeatingKeyXOR(cipherbytes, decryptkey);"
   ]
  },
  {
   "cell_type": "code",
   "execution_count": null,
   "metadata": {
    "collapsed": false
   },
   "outputs": [],
   "source": [
    "String(decryptkey)"
   ]
  },
  {
   "cell_type": "code",
   "execution_count": null,
   "metadata": {
    "collapsed": false
   },
   "outputs": [],
   "source": [
    "String(fullptbytes)"
   ]
  }
 ],
 "metadata": {
  "anaconda-cloud": {},
  "kernelspec": {
   "display_name": "Julia 0.5.0",
   "language": "julia",
   "name": "julia-0.5"
  },
  "language_info": {
   "file_extension": ".jl",
   "mimetype": "application/julia",
   "name": "julia",
   "version": "0.5.0"
  }
 },
 "nbformat": 4,
 "nbformat_minor": 1
}
