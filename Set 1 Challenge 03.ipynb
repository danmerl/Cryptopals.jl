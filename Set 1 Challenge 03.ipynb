{
 "cells": [
  {
   "cell_type": "markdown",
   "metadata": {},
   "source": [
    "# Single Byte XOR Cipher\n",
    "See http://cryptopals.com/sets/1/challenges/3"
   ]
  },
  {
   "cell_type": "code",
   "execution_count": null,
   "metadata": {
    "collapsed": true
   },
   "outputs": [],
   "source": [
    "cipherhex = \"1b37373331363f78151b7f2b783431333d78397828372d363c78373e783a393b3736\"\n",
    "cipherbytes = hex2bytes(cipherhex);"
   ]
  },
  {
   "cell_type": "code",
   "execution_count": null,
   "metadata": {
    "collapsed": false
   },
   "outputs": [],
   "source": [
    "function xorByte(x::UInt8, cb::Array{UInt8,1})\n",
    "    pt = cb $ x\n",
    "    return pt\n",
    "end;"
   ]
  },
  {
   "cell_type": "code",
   "execution_count": null,
   "metadata": {
    "collapsed": false
   },
   "outputs": [],
   "source": [
    "function englishiness(ptarray::Array{UInt8, 1})\n",
    "    EnglishFrequencies = Dict( # from http://scottbryce.com/cryptograms/stats.htm\n",
    "    'e'=>12.51, \n",
    "    't'=>9.25,\n",
    "    'a'=>8.04,\n",
    "    'o'=>7.6,\n",
    "    'i'=>7.26,\n",
    "    'n'=>7.09,\n",
    "    's'=>6.54,\n",
    "    'r'=>6.12,\n",
    "    'h'=>5.49,\n",
    "    'l'=>4.14,\n",
    "    'd'=>3.99,\n",
    "    'c'=>3.06,\n",
    "    'u'=>2.71,\n",
    "    'm'=>2.53,\n",
    "    'f'=>2.3,\n",
    "    'p'=>2.0,\n",
    "    'g'=>1.96,\n",
    "    'w'=>1.92,\n",
    "    'y'=>1.73,\n",
    "    'b'=>1.54,\n",
    "    'v'=>0.99,\n",
    "    'k'=>0.67,\n",
    "    'x'=>0.19,\n",
    "    'j'=>0.16,\n",
    "    'q'=>0.11,\n",
    "    'z'=>0.09,\n",
    "    )\n",
    "    s=0\n",
    "    for ll in ptarray\n",
    "        llchar = Char(ll)\n",
    "        if isalpha(llchar)\n",
    "            s+=get(EnglishFrequencies, lowercase(llchar), -5)\n",
    "        else\n",
    "            s+=-20\n",
    "        end\n",
    "    end\n",
    "    return s\n",
    "end;"
   ]
  },
  {
   "cell_type": "code",
   "execution_count": null,
   "metadata": {
    "collapsed": false
   },
   "outputs": [],
   "source": [
    "decrypts = []\n",
    "for xx in 0x00:0xff\n",
    "    ptbytes = xorByte(xx, cipherbytes)\n",
    "    ptscore = englishiness(ptbytes)\n",
    "    push!(decrypts, (xx, ptbytes, ptscore))\n",
    "end"
   ]
  },
  {
   "cell_type": "code",
   "execution_count": null,
   "metadata": {
    "collapsed": false
   },
   "outputs": [],
   "source": [
    "sort!(decrypts, rev=true, lt=(x,y)->x[3]<y[3]);"
   ]
  },
  {
   "cell_type": "code",
   "execution_count": null,
   "metadata": {
    "collapsed": false
   },
   "outputs": [],
   "source": [
    "String(decrypts[1][2])"
   ]
  }
 ],
 "metadata": {
  "anaconda-cloud": {},
  "kernelspec": {
   "display_name": "Julia 0.5.0",
   "language": "julia",
   "name": "julia-0.5"
  },
  "language_info": {
   "file_extension": ".jl",
   "mimetype": "application/julia",
   "name": "julia",
   "version": "0.5.0"
  }
 },
 "nbformat": 4,
 "nbformat_minor": 1
}
