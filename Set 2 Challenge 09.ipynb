{
 "cells": [
  {
   "cell_type": "markdown",
   "metadata": {},
   "source": [
    "# Implement PKCS#7 padding"
   ]
  },
  {
   "cell_type": "markdown",
   "metadata": {},
   "source": [
    "see http://cryptopals.com/sets/2/challenges/9"
   ]
  },
  {
   "cell_type": "code",
   "execution_count": null,
   "metadata": {
    "collapsed": false
   },
   "outputs": [],
   "source": [
    "function stringToBytes(X::String)\n",
    "    return [UInt8(X[ii]) for ii in 1:length(X)]\n",
    "end\n",
    "\n",
    "function padToNBytes(a::Array{UInt8,1}, nbytes)\n",
    "    newa = Array{UInt8,1}(nbytes)\n",
    "    ntopad = nbytes - length(a)\n",
    "    newa[1:length(a)] = a\n",
    "    newa[(length(a)+1):nbytes] = UInt8(ntopad)\n",
    "    return newa\n",
    "end\n",
    "\n",
    "function padToNBytes(a::String, nbytes)\n",
    "    return String(padToNBytes(stringToBytes(a), nbytes))\n",
    "end;"
   ]
  },
  {
   "cell_type": "code",
   "execution_count": null,
   "metadata": {
    "collapsed": false
   },
   "outputs": [],
   "source": [
    "padToNBytes(\"YELLOW SUBMARINE\", 20)"
   ]
  }
 ],
 "metadata": {
  "anaconda-cloud": {},
  "kernelspec": {
   "display_name": "Julia 0.5.0",
   "language": "julia",
   "name": "julia-0.5"
  },
  "language_info": {
   "file_extension": ".jl",
   "mimetype": "application/julia",
   "name": "julia",
   "version": "0.5.0"
  }
 },
 "nbformat": 4,
 "nbformat_minor": 1
}
